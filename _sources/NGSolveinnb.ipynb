{
 "cells": [
  {
   "cell_type": "markdown",
   "metadata": {},
   "source": [
    "# NGSolve in Jupyter-Notebook"
   ]
  },
  {
   "cell_type": "markdown",
   "metadata": {},
   "source": [
    "Of course, in a Jupyter-Book we can also intregrate Jupyter-Notebooks directly. "
   ]
  },
  {
   "cell_type": "code",
   "execution_count": null,
   "metadata": {},
   "outputs": [],
   "source": [
    "import numpy as np\n",
    "import matplotlib.pyplot as plt\n",
    "\n",
    "from ngsolve.meshes import MakeStructured2DMesh\n",
    "from ngsolve import *\n",
    "from ngsolve.solvers import Newton\n",
    "from ngsolve.webgui import Draw\n",
    "\n",
    "#mesh = Mesh(unit_square.GenerateMesh(maxh=0.2))\n",
    "mesh = MakeStructured2DMesh(quads=False,nx=8,ny=8, mapping = lambda x,y : (x,y))"
   ]
  },
  {
   "cell_type": "markdown",
   "metadata": {},
   "source": [
    "As example we are looking for solutions to the so-called Gelfands equation:\n",
    "\n",
    "$$- \\Delta u = \\lambda e^u \\quad \\ \\text{for}\\ x \\in \\Omega$$\n",
    "\n",
    "with Dirichlet boundary condition $u=0$ on $\\partial\\Omega$. From the analysis of the equation we know that for $\\Omega \\subset \\mathbb{R}^2$ there exists a $0 < \\lambda^* < \\infty$ such that for $0 < \\lambda < \\lambda^*$ we have two solutions. To compute this solutions numerically we use a $H^1$ FEM discretisation and a path tracking method.\n",
    "\n",
    "The main idea in pseudoarclength continuation is to drop the natural parametrization by $\\lambda$ and use somit other parametrization {cite}`keller`. Consider the equation\n",
    "\n",
    "$$G(u,\\lambda) = 0$$(eq:Gelfand)\n",
    "\n",
    "where $G: H_0^1(\\Omega) \\times \\mathbb{R} \\to \\mathbb{R}$. If $(u_0, \\lambda_0)$ is any point on a regular path and $(\\dot{u}, \\dot{\\lambda})$ is the unit tangent to the path, then we adjoin to {eq}`eq:Gelfand` the scalar normalization:\n",
    "\n",
    "$$N(u, \\lambda, s) = \\theta\\ \\langle\\dot{u}_0, (u-u_0)\\rangle + (1-\\theta)\\ \\dot{\\lambda}_0 \\cdot (\\lambda - \\lambda_0) - (s-s_0) = 0$$(eq:pseudoarc)\n",
    "\n",
    "Now we solve {eq}`eq:Gelfand` and {eq}`eq:pseudoarc` simultaneously for $(u(s), \\lambda(s))$. For the implementation with `ngsolve` we use a product space. For $u$ a $H^1$-FE space and for $\\lambda$ a numberspace:"
   ]
  },
  {
   "cell_type": "code",
   "execution_count": null,
   "metadata": {},
   "outputs": [],
   "source": [
    "order = 4\n",
    "V = H1(mesh, order=order, dirichlet='bottom|right|top|left')\n",
    "W = NumberSpace(mesh)\n",
    "X = V*W\n",
    "# proxy-functions for X\n",
    "(u,lam) = X.TrialFunction()\n",
    "(v,q) = X.TestFunction()\n",
    "\n",
    "# solution\n",
    "gfx = GridFunction(X)\n",
    "gfu, gflam = gfx.components\n",
    "# linearization point\n",
    "gfx0 = GridFunction(X)\n",
    "gfu0, gflam0 = gfx0.components\n",
    "# tangent to the path\n",
    "dgfx0 = GridFunction(X)\n",
    "dgfu0, dgflam0 = dgfx0.components\n",
    "# old tangent to the path \n",
    "dgfx0_ = GridFunction(X)\n",
    "dgfu0_, dgflam0_ = dgfx0_.components\n",
    "\n",
    "AOmega = Integrate(1,mesh)\n",
    "s0 = Parameter(0)\n",
    "s = Parameter(0)\n",
    "\n",
    "theta = Parameter(0.75)\n",
    "aX = BilinearForm(X)\n",
    "aX += (grad(u)*grad(v)-lam*exp(u)*v)*dx\n",
    "aX += (theta*dgfu0*(u-gfu0)*q+(1-theta)*dgflam0*(lam-gflam0)/AOmega*q-(s-s0)/AOmega*q)*dx"
   ]
  },
  {
   "cell_type": "markdown",
   "metadata": {},
   "source": [
    "We will briefly describe how to compute the tangent vectors $(\\dot{u}_0, \\dot{\\lambda}_0)$. They must satisfy\n",
    "\n",
    "$$\\begin{split}\n",
    "G_u^0 \\dot{u}_0 + G_\\lambda^0 \\dot{\\lambda}_0 & = 0\\\\\n",
    "\\theta\\ \\| \\dot{u}_0\\|^2 + (1-\\theta)\\ |\\dot{\\lambda}_0|^2 & = 1\n",
    "\\end{split}$$(eq:tangentvectors)\n",
    "\n",
    "For a regular point $G_u^0$ is nonsingular. We find $\\phi_0$ from the first equation of {eq}`eq:tangentvectors`\n",
    "\n",
    "$$G_u^0 \\phi_0 = -G_\\lambda^0 \\dot{\\lambda}_0$$\n",
    "\n",
    "Then set\n",
    "\n",
    "$$\\dot{u}_0 = a\\,\\phi_0\\quad\\text{and}\\quad\\dot{\\lambda}_0 = a$$\n",
    "\n",
    "where $a$ is determined from the second equation of {eq}`eq:tangentvectors`\n",
    "\n",
    "$$a = \\frac{\\pm 1}{\\sqrt{(1-\\theta)+ \\theta\\,\\|\\phi_0\\|^2}}.$$\n",
    "\n",
    "In `ngsolve` we define the linearization as follows"
   ]
  },
  {
   "cell_type": "code",
   "execution_count": null,
   "metadata": {},
   "outputs": [],
   "source": [
    "u,v = V.TnT()\n",
    "dGlam0 = LinearForm(V)\n",
    "dGlam0 += -exp(gfu0)*v*dx\n",
    "\n",
    "dGlam = LinearForm(V)\n",
    "dGlam += -exp(gfu)*v*dx\n",
    "\n",
    "dGu0 = BilinearForm(V)\n",
    "dGu0 += (grad(u)*grad(v)-gflam0*exp(gfu0)*u*v)*dx"
   ]
  },
  {
   "cell_type": "markdown",
   "metadata": {},
   "source": [
    "The initial solution for $\\lambda = 0$ is given by $u\\equiv 0$."
   ]
  },
  {
   "cell_type": "code",
   "execution_count": null,
   "metadata": {
    "jupyter": {
     "source_hidden": true
    }
   },
   "outputs": [],
   "source": [
    "gflam0.Set(0)\n",
    "gfu0.vec[:] = 0\n",
    "gfx.vec.data = gfx0.vec"
   ]
  },
  {
   "cell_type": "markdown",
   "metadata": {},
   "source": [
    "Now we can compute the path"
   ]
  },
  {
   "cell_type": "code",
   "execution_count": null,
   "metadata": {},
   "outputs": [],
   "source": [
    "dGlam0.Assemble()\n",
    "dGu0.Assemble()\n",
    "dgfu0.vec.data = -dGu0.mat.Inverse(V.FreeDofs())*dGlam0.vec\n",
    "dgflam0.Set(1/np.sqrt(theta.Get()*Integrate(dgfu0*dgfu0,mesh)+(1-theta.Get())))\n",
    "dgfu0.vec.data *= dgflam0.vec[0]\n",
    "dgfx0_.vec.data = dgfx0.vec\n",
    "\n",
    "lami = [gflam.vec[0]]\n",
    "mip = mesh(0.5,0.5)\n",
    "soli = [gfu(mip)]\n",
    "\n",
    "deltas = 1e-2\n",
    "N = 90\n",
    "M = 10\n",
    "\n",
    "theta.Set(0.75)\n",
    "\n",
    "scene = Draw(gfu);"
   ]
  },
  {
   "cell_type": "code",
   "execution_count": null,
   "metadata": {
    "editable": true,
    "remove-output": true,
    "scrolled": true,
    "slideshow": {
     "slide_type": ""
    },
    "tags": [
     "hide-output"
    ]
   },
   "outputs": [],
   "source": [
    "gfxsol = GridFunction(X, multidim=N)\n",
    "for i in range(N):\n",
    "    for j in range(M):\n",
    "        s.Set(s.Get()+deltas)\n",
    "        # solving the coupled system\n",
    "        ret = Newton(aX, gfx, printing=False)\n",
    "        soli.append(gfu(mip))\n",
    "        lami.append(gflam.vec[0])\n",
    "        j += 1\n",
    "    scene.Redraw()\n",
    "    s0.Set(s.Get())\n",
    "    gfx0.vec.data = gfx.vec\n",
    "    dGlam0.Assemble()\n",
    "    dGu0.Assemble()\n",
    "    dgfu0.vec.data = -dGu0.mat.Inverse(V.FreeDofs())*dGlam0.vec\n",
    "    dgflam0.Set(1/np.sqrt(theta.Get()*Integrate(dgfu0*dgfu0,mesh)+(1-theta.Get())))\n",
    "    dgfu0.vec.data *= dgflam0.vec[0]\n",
    "    gfxsol.vecs[i].data = gfx0.vec\n",
    "    sign = Integrate(dgfu0*dgfu0_,mesh)+dgflam0.vec[0]*dgflam0_.vec[0]\n",
    "    if sign < 0:\n",
    "        dgfx0.vec.data *= -1\n",
    "    dgfx0_.vec.data = dgfx0.vec\n",
    "    print(i, '/',N,'dlam0=',dgflam0.vec[0], 'lambda=',gflam.vec[0])"
   ]
  },
  {
   "cell_type": "code",
   "execution_count": null,
   "metadata": {},
   "outputs": [],
   "source": [
    "plt.plot(lami,soli,'-')\n",
    "plt.plot(lami[::M],soli[::M],'.')\n",
    "plt.grid()\n",
    "plt.xlabel('$\\lambda$')\n",
    "plt.ylabel('$\\max_{x\\in R}(u)$')\n",
    "plt.show()"
   ]
  },
  {
   "cell_type": "code",
   "execution_count": null,
   "metadata": {},
   "outputs": [],
   "source": [
    "Draw(gfxsol.components[0],mesh,min=0,max=8,interpolate_multidim=True,\n",
    "     autoscale=False, animate=True, settings = { \"subdivision\" : 5, \"Colormap\" : { \"ncolors\" : 32 }});"
   ]
  }
 ],
 "metadata": {
  "kernelspec": {
   "display_name": "Python 3 (ipykernel)",
   "language": "python",
   "name": "python3"
  },
  "language_info": {
   "codemirror_mode": {
    "name": "ipython",
    "version": 3
   },
   "file_extension": ".py",
   "mimetype": "text/x-python",
   "name": "python",
   "nbconvert_exporter": "python",
   "pygments_lexer": "ipython3",
   "version": "3.11.4"
  }
 },
 "nbformat": 4,
 "nbformat_minor": 4
}
