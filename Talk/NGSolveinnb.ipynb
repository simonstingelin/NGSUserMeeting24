{
 "cells": [
  {
   "cell_type": "markdown",
   "metadata": {},
   "source": [
    "# NGSolve in Jupyter-Notebook"
   ]
  },
  {
   "cell_type": "markdown",
   "metadata": {},
   "source": [
    "Of course, in a Jupyter-Book we can also intregrate Jupyter-Notebooks directly. "
   ]
  },
  {
   "cell_type": "code",
   "execution_count": null,
   "metadata": {},
   "outputs": [],
   "source": [
    "import numpy as np\n",
    "import matplotlib.pyplot as plt\n",
    "\n",
    "from ngsolve.meshes import MakeStructured2DMesh\n",
    "from ngsolve import *\n",
    "from ngsolve.solvers import Newton\n",
    "from ngsolve.webgui import Draw\n",
    "\n",
    "#mesh = Mesh(unit_square.GenerateMesh(maxh=0.2))\n",
    "mesh = MakeStructured2DMesh(quads=False,nx=6,ny=6, mapping = lambda x,y : (x,y))"
   ]
  },
  {
   "cell_type": "markdown",
   "metadata": {},
   "source": [
    "As example we are looking for solutions to the so-called Gelfands equation:\n",
    "\n",
    "$$- \\Delta u = \\lambda e^u \\quad \\ \\text{for}\\ x \\in \\Omega$$\n",
    "\n",
    "with Dirichlet boundary condition $u=0$ on $\\partial\\Omega$. From the analysis of the equation we know that for $\\Omega \\subset \\mathbb{R}^2$ there exists a $0 < \\lambda^* < \\infty$ such that for $0 < \\lambda < \\lambda^*$ we have two solutions. To compute this solutions numerically we use a FEM $H^1$ discretisation and a path tracking method.\n",
    "\n",
    "The main idea in pseudoarclength continuation is to drop the natural parametrization by $\\lambda$ and use somit other parametrization {cite}`keller`. Consider the equation\n",
    "\n",
    "$$G(u,\\lambda) = 0$$(eq:Gelfand)\n",
    "\n",
    "where $G: H_0^1(\\Omega) \\times \\mathbb{R} \\to \\mathbb{R}$. If $(u_0, \\lambda_0)$ is any point on a regular path and $(\\dot{u}, \\dot{\\lambda})$ is the unit tangent to the path, then we adjoin to {eq}`eq:Gelfand` the scalar normalization:\n",
    "\n",
    "$$N(u, \\lambda, s) = \\theta\\ \\langle\\dot{u}_0, (u-u_0)\\rangle + (1-\\theta)\\ \\dot{\\lambda}_0 \\cdot (\\lambda - \\lambda_0) - (s-s_0) = 0$$(eq:pseudoarc)\n",
    "\n",
    "Now we solve {eq}`eq:Gelfand` and {eq}`eq:pseudoarc` simultaneously for $(u(s), \\lambda(s))$. For the implementation with `ngsolve` we use a product space. For $u$ a $H^1$-FE space and for $\\lambda$ a numberspace:"
   ]
  },
  {
   "cell_type": "code",
   "execution_count": null,
   "metadata": {},
   "outputs": [],
   "source": [
    "order = 4\n",
    "V = H1(mesh, order=order, dirichlet='bottom|right|top|left')\n",
    "W = NumberSpace(mesh)\n",
    "X = V*W\n",
    "# proxy-functions for X\n",
    "(u,lam) = X.TrialFunction()\n",
    "(v,q) = X.TestFunction()\n",
    "\n",
    "# solution\n",
    "gfx = GridFunction(X)\n",
    "gfu, gflam = gfx.components\n",
    "# linearization point\n",
    "gfx0 = GridFunction(X)\n",
    "gfu0, gflam0 = gfx0.components\n",
    "# tangent to the path\n",
    "dgfx0 = GridFunction(X)\n",
    "dgfu0, dgflam0 = dgfx0.components\n",
    "# old tangent to the path \n",
    "dgfx0_ = GridFunction(X)\n",
    "dgfu0_, dgflam0_ = dgfx0_.components\n",
    "\n",
    "AOmega = Integrate(1,mesh)\n",
    "s0 = Parameter(0)\n",
    "s = Parameter(0)\n",
    "\n",
    "theta = Parameter(0.75)\n",
    "aX = BilinearForm(X)\n",
    "aX += (grad(u)*grad(v)-lam*exp(u)*v)*dx\n",
    "aX += (theta*dgfu0*(u-gfu0)*q+(1-theta)*dgflam0*(lam-gflam0)/AOmega*q-(s-s0)/AOmega*q)*dx"
   ]
  },
  {
   "cell_type": "markdown",
   "metadata": {},
   "source": [
    "We will briefly describe how to compute the tangent vectors $(\\dot{u}_0, \\dot{\\lambda}_0)$. They must satisfy\n",
    "\n",
    "$$\\begin{split}\n",
    "G_u^0 \\dot{u}_0 + G_\\lambda^0 \\dot{\\lambda}_0 & = 0\\\\\n",
    "\\theta\\ \\| \\dot{u}_0\\|^2 + (1-\\theta)\\ |\\dot{\\lambda}_0|^2 & = 1\n",
    "\\end{split}$$(eq:tangentvectors)\n",
    "\n",
    "For a regular point $G_u^0$ is nonsingular. We find $\\phi_0$ from the first equation of {eq}`eq:tangentvectors`\n",
    "\n",
    "$$G_u^0 \\phi_0 = -G_\\lambda^0 \\dot{\\lambda}_0$$\n",
    "\n",
    "Then set\n",
    "\n",
    "$$\\dot{u}_0 = a\\,\\phi_0\\quad\\text{and}\\quad\\dot{\\lambda}_0 = a$$\n",
    "\n",
    "where $a$ is determined from the second equation of {eq}`eq:tangentvectors`\n",
    "\n",
    "$$a = \\frac{\\pm 1}{\\sqrt{(1-\\theta)+ \\theta\\,\\|\\phi_0\\|^2}}.$$\n",
    "\n",
    "In `ngsolve` we define the linearization as follows"
   ]
  },
  {
   "cell_type": "code",
   "execution_count": 5,
   "metadata": {},
   "outputs": [],
   "source": [
    "u,v = V.TnT()\n",
    "dGlam0 = LinearForm(V)\n",
    "dGlam0 += -exp(gfu0)*v*dx\n",
    "\n",
    "dGlam = LinearForm(V)\n",
    "dGlam += -exp(gfu)*v*dx\n",
    "\n",
    "dGu0 = BilinearForm(V)\n",
    "dGu0 += (grad(u)*grad(v)-gflam0*exp(gfu0)*u*v)*dx"
   ]
  },
  {
   "cell_type": "markdown",
   "metadata": {},
   "source": [
    "The initial solution for $\\lambda = 0$ is given by $u\\equiv 0$."
   ]
  },
  {
   "cell_type": "code",
   "execution_count": 6,
   "metadata": {},
   "outputs": [],
   "source": [
    "gflam0.Set(0)\n",
    "gfu0.vec[:] = 0\n",
    "gfx.vec.data = gfx0.vec"
   ]
  },
  {
   "cell_type": "markdown",
   "metadata": {},
   "source": [
    "Now we can compute the path"
   ]
  },
  {
   "cell_type": "code",
   "execution_count": null,
   "metadata": {},
   "outputs": [],
   "source": [
    "dGlam0.Assemble()\n",
    "dGu0.Assemble()\n",
    "dgfu0.vec.data = -dGu0.mat.Inverse(V.FreeDofs())*dGlam0.vec\n",
    "dgflam0.Set(1/np.sqrt(theta.Get()*Integrate(dgfu0*dgfu0,mesh)+(1-theta.Get())))\n",
    "dgfu0.vec.data *= dgflam0.vec[0]\n",
    "dgfx0_.vec.data = dgfx0.vec\n",
    "\n",
    "lami = [gflam.vec[0]]\n",
    "mip = mesh(0.5,0.5)\n",
    "soli = [gfu(mip)]\n",
    "\n",
    "deltas = 1e-2\n",
    "N = 100\n",
    "M = 10\n",
    "\n",
    "theta.Set(0.75)\n",
    "\n",
    "scene = Draw(gfu);"
   ]
  },
  {
   "cell_type": "code",
   "execution_count": 11,
   "metadata": {
    "editable": true,
    "remove-output": true,
    "scrolled": true,
    "slideshow": {
     "slide_type": ""
    },
    "tags": [
     "hide-output"
    ]
   },
   "outputs": [
    {
     "name": "stdout",
     "output_type": "stream",
     "text": [
      "0 / 100 dlam0= 1.9948907983346944 0.01 0.02068197609183093\n",
      "1 / 100 dlam0= 1.9946789818801463 0.01 0.22016065625407247\n",
      "2 / 100 dlam0= 1.9944520455154295 0.01 0.41961741825654664\n",
      "3 / 100 dlam0= 1.9942084157660522 0.01 0.6190506740914699\n",
      "4 / 100 dlam0= 1.993946299997702 0.01 0.8184586679062015\n",
      "5 / 100 dlam0= 1.9936636476061675 0.01 1.0178394522448377\n",
      "6 / 100 dlam0= 1.9933581027606686 0.01 1.2171908600115189\n",
      "7 / 100 dlam0= 1.9930269464945136 0.01 1.416510471208029\n",
      "8 / 100 dlam0= 1.9926670252574281 0.01 1.6157955732463112\n",
      "9 / 100 dlam0= 1.9922746621208363 0.01 1.815043113305518\n",
      "10 / 100 dlam0= 1.991845545560039 0.01 2.014249640764222\n",
      "11 / 100 dlam0= 1.9913745889775054 0.01 2.2134112371503787\n",
      "12 / 100 dlam0= 1.990855751658484 0.01 2.4125234302554053\n",
      "13 / 100 dlam0= 1.9902818083284333 0.01 2.6115810879680272\n",
      "14 / 100 dlam0= 1.9896440493959657 0.01 2.8105782858706125\n",
      "15 / 100 dlam0= 1.9889318865062047 0.01 3.0095081405133794\n",
      "16 / 100 dlam0= 1.988132326907266 0.01 3.208362597246179\n",
      "17 / 100 dlam0= 1.9872292632423985 0.01 3.4071321570852007\n",
      "18 / 100 dlam0= 1.9862024992132654 0.01 3.605805520593876\n",
      "19 / 100 dlam0= 1.9850263901194136 0.01 3.804369116977446\n",
      "20 / 100 dlam0= 1.9836679100299481 0.01 4.002806471551427\n",
      "21 / 100 dlam0= 1.982083845210594 0.01 4.201097341056715\n",
      "22 / 100 dlam0= 1.9802166206795564 0.01 4.399216507971169\n",
      "23 / 100 dlam0= 1.9779879238602218 0.01 4.597132061064261\n",
      "24 / 100 dlam0= 1.975288654935225 0.01 4.7948028791580946\n",
      "25 / 100 dlam0= 1.9719625060054684 0.01 4.992174837084015\n",
      "26 / 100 dlam0= 1.967777968561052 0.01 5.189174880821056\n",
      "27 / 100 dlam0= 1.962378142845229 0.01 5.385701381280455\n",
      "28 / 100 dlam0= 1.9551850601913574 0.01 5.581607617505197\n",
      "29 / 100 dlam0= 1.9452029025925288 0.01 5.776671680096287\n",
      "30 / 100 dlam0= 1.9305721659963078 0.01 5.970537132153417\n",
      "31 / 100 dlam0= 1.907421889906515 0.01 6.162583288362853\n",
      "32 / 100 dlam0= 1.8663425066006156 0.01 6.351598513602614\n",
      "33 / 100 dlam0= 1.7782943142374883 0.01 6.534768217287261\n",
      "34 / 100 dlam0= 1.508850045701554 0.01 6.703297557775456\n",
      "35 / 100 dlam0= 0.05934108135827165 0.01 6.808042824779378\n",
      "36 / 100 dlam0= -1.3624065459921404 0.01 6.712166876410878\n",
      "37 / 100 dlam0= -1.633704101299899 0.01 6.558438127438729\n",
      "38 / 100 dlam0= -1.7358817193463536 0.01 6.389006608862442\n",
      "39 / 100 dlam0= -1.7878492990770125 0.01 6.2124701932978805\n",
      "40 / 100 dlam0= -1.8187522054106777 0.01 6.031977685547794\n",
      "41 / 100 dlam0= -1.838891843334821 0.01 5.84900806604264\n",
      "42 / 100 dlam0= -1.852781883158361 0.01 5.664372270312895\n",
      "43 / 100 dlam0= -1.862697830321509 0.01 5.478564755495842\n",
      "44 / 100 dlam0= -1.8699047330107958 0.01 5.291911688735024\n",
      "45 / 100 dlam0= -1.8751574235950588 0.01 5.104642037392624\n",
      "46 / 100 dlam0= -1.8789300786472831 0.01 4.91692513868777\n",
      "47 / 100 dlam0= -1.8815314709584174 0.01 4.728892125312546\n",
      "48 / 100 dlam0= -1.8831669943617544 0.01 4.540648939901887\n",
      "49 / 100 dlam0= -1.8839738773358508 0.01 4.352284691644516\n",
      "50 / 100 dlam0= -1.8840419689524062 0.01 4.163877311595517\n",
      "51 / 100 dlam0= -1.8834262877840453 0.01 3.975497591668855\n",
      "52 / 100 dlam0= -1.8821545854861608 0.01 3.7872122447915295\n",
      "53 / 100 dlam0= -1.8802316887915087 0.01 3.5990863842187895\n",
      "54 / 100 dlam0= -1.8776415798338189 0.01 3.4111856892400425\n",
      "55 / 100 dlam0= -1.874347705058085 0.01 3.2235784546263173\n",
      "56 / 100 dlam0= -1.8702916952451853 0.01 3.0363376887206197\n",
      "57 / 100 dlam0= -1.8653904390915137 0.01 2.8495434191506743\n",
      "58 / 100 dlam0= -1.8595312179993189 0.01 2.6632853822976097\n",
      "59 / 100 dlam0= -1.852564324336808 0.01 2.477666315096501\n",
      "60 / 100 dlam0= -1.8442921794701557 0.01 2.292806143729321\n",
      "61 / 100 dlam0= -1.834453331229854 0.01 2.1088474901771503\n",
      "62 / 100 dlam0= -1.8226986474085005 0.01 1.9259631259006895\n",
      "63 / 100 dlam0= -1.8085551607407524 0.01 1.7443663505556462\n",
      "64 / 100 dlam0= -1.791369624446358 0.01 1.5643258735626775\n",
      "65 / 100 dlam0= -1.770217396384794 0.01 1.386187844565405\n",
      "66 / 100 dlam0= -1.743749638803646 0.01 1.2104096520728962\n",
      "67 / 100 dlam0= -1.709926532304518 0.01 1.037613880869041\n",
      "68 / 100 dlam0= -1.6655341980462026 0.01 0.8686781797073093\n",
      "69 / 100 dlam0= -1.6052942176139984 0.01 0.7048909258380388\n",
      "70 / 100 dlam0= -1.5202833265959297 0.01 0.5482264724597712\n",
      "71 / 100 dlam0= -1.3956805825982892 0.01 0.40181425173184876\n",
      "72 / 100 dlam0= -1.210696968582686 0.01 0.2705864727040706\n",
      "73 / 100 dlam0= -0.9445278783633154 0.01 0.16142184222805428\n",
      "74 / 100 dlam0= -0.6112771803285878 0.01 0.08280741514233697\n",
      "75 / 100 dlam0= -0.29238715813840827 0.01 0.038218076249197805\n",
      "76 / 100 dlam0= -0.12901374386332598 0.01 0.01824047937815778\n",
      "77 / 100 dlam0= -0.06093667508011709 0.01 0.009209355706292936\n",
      "78 / 100 dlam0= -0.03054357185195469 0.01 0.0048255046806615545\n",
      "79 / 100 dlam0= -0.015918961239304898 0.01 0.0025869483915585086\n",
      "80 / 100 dlam0= -0.008513864062991263 0.01 0.0014049542234637793\n",
      "81 / 100 dlam0= -0.004643223722522847 0.01 0.0007631968244990108\n",
      "82 / 100 dlam0= -0.0026782002452515586 0.01 0.00040498791410928766\n",
      "83 / 100 dlam0= -0.001411758534772947 0.01 0.00020634754791103678\n",
      "84 / 100 dlam0= -0.0007174048659145457 0.01 0.00010374220507705204\n",
      "85 / 100 dlam0= -0.0003601493954394397 0.01 5.1932624564288874e-05\n",
      "86 / 100 dlam0= -0.00018004506704389012 0.01 2.597857484828919e-05\n",
      "87 / 100 dlam0= -8.994384735484363e-05 0.01 1.3008700683036843e-05\n",
      "88 / 100 dlam0= -4.4980006920751874e-05 0.01 6.526390891648649e-06\n",
      "89 / 100 dlam0= -2.2538142432438636e-05 0.01 3.281722581420106e-06\n",
      "90 / 100 dlam0= -1.1319996800844292e-05 0.01 1.6541228497512318e-06\n",
      "91 / 100 dlam0= -5.6997580260962755e-06 0.01 8.356949172411995e-07\n",
      "92 / 100 dlam0= -2.8769138054723834e-06 0.01 4.231359607073378e-07\n",
      "93 / 100 dlam0= -1.4554420292458837e-06 0.01 2.1467573636778576e-07\n",
      "94 / 100 dlam0= -7.378655749120418e-07 0.01 1.0911085898262735e-07\n",
      "95 / 100 dlam0= -3.7478505619841503e-07 0.01 5.554507738977895e-08\n",
      "96 / 100 dlam0= -1.9068542206402808e-07 0.01 2.83158615944076e-08\n",
      "97 / 100 dlam0= -9.716140069770808e-08 0.01 1.445240409427388e-08\n",
      "98 / 100 dlam0= -4.9570974767441654e-08 0.01 7.3841831287928094e-09\n",
      "99 / 100 dlam0= -2.531870522214813e-08 0.01 3.776152264736865e-09\n"
     ]
    }
   ],
   "source": [
    "for i in range(N):\n",
    "    for j in range(M):\n",
    "        s.Set(s.Get()+deltas)\n",
    "        # solving the coupled system\n",
    "        ret = Newton(aX, gfx, printing=False)\n",
    "        soli.append(gfu(mip))\n",
    "        lami.append(gflam.vec[0])\n",
    "        j += 1\n",
    "    scene.Redraw()\n",
    "    s0.Set(s.Get())\n",
    "    gfx0.vec.data = gfx.vec\n",
    "    dGlam0.Assemble()\n",
    "    dGu0.Assemble()\n",
    "    dgfu0.vec.data = -dGu0.mat.Inverse(V.FreeDofs())*dGlam0.vec\n",
    "    dgflam0.Set(1/np.sqrt(theta.Get()*Integrate(dgfu0*dgfu0,mesh)+(1-theta.Get())))\n",
    "    dgfu0.vec.data *= dgflam0.vec[0]\n",
    "\n",
    "    sign = Integrate(dgfu0*dgfu0_,mesh)+dgflam0.vec[0]*dgflam0_.vec[0]\n",
    "    if sign < 0:\n",
    "        dgfx0.vec.data *= -1\n",
    "    dgfx0_.vec.data = dgfx0.vec\n",
    "    print(i, '/',N,'dlam0=',dgflam0.vec[0], 'lambda=',gflam.vec[0])"
   ]
  },
  {
   "cell_type": "code",
   "execution_count": 12,
   "metadata": {},
   "outputs": [
    {
     "data": {
      "image/png": "[encoded data removed]",
      "text/plain": [
       "<Figure size 640x480 with 1 Axes>"
      ]
     },
     "metadata": {},
     "output_type": "display_data"
    }
   ],
   "source": [
    "plt.plot(lami,soli,'-')\n",
    "plt.plot(lami[::M],soli[::M],'.')\n",
    "plt.grid()\n",
    "plt.xlabel('$\\lambda$')\n",
    "plt.ylabel('$\\max_{x\\in R}(u)$')\n",
    "plt.show()"
   ]
  }
 ],
 "metadata": {
  "kernelspec": {
   "display_name": "Python 3 (ipykernel)",
   "language": "python",
   "name": "python3"
  },
  "language_info": {
   "codemirror_mode": {
    "name": "ipython",
    "version": 3
   },
   "file_extension": ".py",
   "mimetype": "text/x-python",
   "name": "python",
   "nbconvert_exporter": "python",
   "pygments_lexer": "ipython3",
   "version": "3.11.4"
  }
 },
 "nbformat": 4,
 "nbformat_minor": 4
}
